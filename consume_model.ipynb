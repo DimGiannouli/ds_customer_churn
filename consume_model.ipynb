{
 "cells": [
  {
   "cell_type": "markdown",
   "metadata": {},
   "source": [
    "We are using Flask to buld an API to consume the customer churn model. Flask is one of the most straightforward but widely used Python microservices web frameworks for building APIs. For this demo, we are going to build an MVP REST API with Python and Flask.\n",
    "\n",
    "Our step 1 was to build the model which we already did in the customer_churn.ipynb notebook.\n",
    "Step 2 now is to build a rest API, step 3 is to run it in our environment and step 4 is to use the model to make predictions through the API."
   ]
  },
  {
   "cell_type": "code",
   "execution_count": null,
   "metadata": {},
   "outputs": [],
   "source": []
  },
  {
   "cell_type": "markdown",
   "metadata": {},
   "source": []
  }
 ],
 "metadata": {
  "language_info": {
   "name": "python"
  }
 },
 "nbformat": 4,
 "nbformat_minor": 2
}
